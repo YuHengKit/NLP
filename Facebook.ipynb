{
 "cells": [
  {
   "cell_type": "code",
   "execution_count": 1,
   "metadata": {},
   "outputs": [
    {
     "data": {
      "text/plain": [
       "{'error': {'message': \"(#10) To use 'Page Public Content Access', your use of this endpoint must be reviewed and approved by Facebook. To submit this 'Page Public Content Access' feature for review please read our documentation on reviewable features: https://developers.facebook.com/docs/apps/review.\",\n",
       "  'type': 'OAuthException',\n",
       "  'code': 10,\n",
       "  'fbtrace_id': 'CkgASG0PK9H'}}"
      ]
     },
     "execution_count": 1,
     "metadata": {},
     "output_type": "execute_result"
    }
   ],
   "source": [
    "import requests\n",
    "page = 'NBA'\n",
    "token = 'EAAOdvYwahAoBAI49EIFfsSIhhY9uGvnP3rRhtqZAtZCkT5sm6OsGA4JFZAAyw9n4KlVbBqrtKhdr6gYss5lW5EMSIsPZA5vEuigjHvwGSlrgJHzCEi8k6h6tySZBkshNxCWZAQJO0qpQRoCw4qwCFroeL6xXZBVIgXsIXLvIkSckaXiZAKiqSkGTUr8SmLgSfPQZD'\n",
    "url = 'https://graph.facebook.com/v2.7/{0}/posts?fields=message,object_id&access_token={1}'.format(page, token)\n",
    "\n",
    "response = requests.get(url).json()\n",
    "response"
   ]
  },
  {
   "cell_type": "code",
   "execution_count": 8,
   "metadata": {},
   "outputs": [
    {
     "ename": "KeyError",
     "evalue": "'data'",
     "output_type": "error",
     "traceback": [
      "\u001b[1;31m---------------------------------------------------------------------------\u001b[0m",
      "\u001b[1;31mKeyError\u001b[0m                                  Traceback (most recent call last)",
      "\u001b[1;32m<ipython-input-8-dd7ae06572ed>\u001b[0m in \u001b[0;36m<module>\u001b[1;34m()\u001b[0m\n\u001b[0;32m      1\u001b[0m \u001b[0mposts\u001b[0m \u001b[1;33m=\u001b[0m \u001b[1;33m[\u001b[0m\u001b[1;33m]\u001b[0m\u001b[1;33m\u001b[0m\u001b[0m\n\u001b[0;32m      2\u001b[0m \u001b[1;33m\u001b[0m\u001b[0m\n\u001b[1;32m----> 3\u001b[1;33m \u001b[1;32mfor\u001b[0m \u001b[0mpost\u001b[0m \u001b[1;32min\u001b[0m \u001b[0mresponse\u001b[0m\u001b[1;33m[\u001b[0m\u001b[1;34m'data'\u001b[0m\u001b[1;33m]\u001b[0m\u001b[1;33m:\u001b[0m\u001b[1;33m\u001b[0m\u001b[0m\n\u001b[0m\u001b[0;32m      4\u001b[0m     \u001b[0mfb\u001b[0m \u001b[1;33m=\u001b[0m \u001b[1;33m{\u001b[0m\u001b[1;33m}\u001b[0m\u001b[1;33m\u001b[0m\u001b[0m\n\u001b[0;32m      5\u001b[0m     \u001b[0mfb\u001b[0m\u001b[1;33m[\u001b[0m\u001b[1;34m'id'\u001b[0m\u001b[1;33m]\u001b[0m \u001b[1;33m=\u001b[0m \u001b[0mpost\u001b[0m\u001b[1;33m[\u001b[0m\u001b[1;34m'id'\u001b[0m\u001b[1;33m]\u001b[0m\u001b[1;33m\u001b[0m\u001b[0m\n",
      "\u001b[1;31mKeyError\u001b[0m: 'data'"
     ]
    }
   ],
   "source": [
    "posts = []\n",
    "\n",
    "for post in response['data']:\n",
    "    fb = {}\n",
    "    fb['id'] = post['id']\n",
    "    if 'message' in post:\n",
    "        fb['message'] = post['message']\n",
    "    else:\n",
    "        fb['message'] = ''\n",
    "    post_id = post['id']\n",
    "    comment_url = 'https://graph.facebook.com/v2.7/{0}/comments?access_token={1}'.format(post_id, token)\n",
    "    comments = requests.get(comment_url).json()\n",
    "    comments_list = [d['message'] for d in comments['data']]\n",
    "    fb['comments'] = comments_list\n",
    "    posts.append(fb)"
   ]
  }
 ],
 "metadata": {
  "kernelspec": {
   "display_name": "Python 3",
   "language": "python",
   "name": "python3"
  },
  "language_info": {
   "codemirror_mode": {
    "name": "ipython",
    "version": 3
   },
   "file_extension": ".py",
   "mimetype": "text/x-python",
   "name": "python",
   "nbconvert_exporter": "python",
   "pygments_lexer": "ipython3",
   "version": "3.6.5"
  }
 },
 "nbformat": 4,
 "nbformat_minor": 2
}
