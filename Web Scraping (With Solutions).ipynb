{
 "cells": [
  {
   "cell_type": "markdown",
   "metadata": {},
   "source": [
    "# Webscraping\n",
    "\n",
    "When performing data science tasks, it's common to want to use data found on the internet. You'll usually be able to access this data in csv format, or via an Application Programming Interface (API). There are times when the data you want can only be accessed as part of a web page. In cases like this, you'll need to use a technique called web scraping to get the data from the web page into a format we can work with in the analysis.\n",
    "\n",
    "## BeautifulSoup\n",
    "Beautiful Soup is a Python library for extracting data out of HTML and XML files. We can use the BeautifulSoup library to parse document, and extract the text from tags. \n",
    "\n",
    "You may install using `pip` via the following command: \n",
    "\n",
    "```bash\n",
    "pip install beautifulsoup4\n",
    "```\n",
    "\n",
    "For full documentation refer to: https://www.crummy.com/software/BeautifulSoup/bs4/doc/\n",
    "\n",
    "\n"
   ]
  },
  {
   "cell_type": "markdown",
   "metadata": {},
   "source": [
    "## Initializing BeautifulSoup\n",
    "\n",
    "We can use the BeautifulSoup library to parse this document, and extract the text from the p tag. We first have to import the library, and create an instance of the BeautifulSoup class to parse our document:\n",
    "\n",
    "```python\n",
    "from bs4 import BeautifulSoup\n",
    "```\n",
    "\n",
    "Also because we are going to download content from a website, we will need the `requests` package.\n",
    "\n",
    "```python\n",
    "import requests\n",
    "```\n",
    "\n",
    "we can then proceed to load the page and parse the content using BeautifulSoup as below.\n",
    "\n",
    "```python\n",
    "page_response = requests.get(url, timeout=5)\n",
    "page_content = BeautifulSoup(page_response.content, \"html.parser\")\n",
    "```"
   ]
  },
  {
   "cell_type": "code",
   "execution_count": 12,
   "metadata": {},
   "outputs": [],
   "source": [
    "from bs4 import BeautifulSoup\n",
    "\n",
    "import requests\n",
    "\n",
    "url ='https://www.thestar.com.my/news/nation/2018/08/31/prices-of-cigarettes-to-go-up-after-sales-tax-fixed-at-10-pc/'\n",
    "# fetch the content from url\n",
    "page_response = requests.get(url, timeout=5)\n",
    "# parse html\n",
    "page_content = BeautifulSoup(page_response.content, \"html.parser\")"
   ]
  },
  {
   "cell_type": "markdown",
   "metadata": {},
   "source": [
    "We are going to use CSS selector for this task, some examples are:\n",
    "- `p a` — finds all a tags inside of a p tag.\n",
    "- `body p a` — finds all a tags inside of a p tag inside of a body tag.\n",
    "- `html body` — finds all body tags inside of an html tag.\n",
    "- `p.outer-text` — finds all p tags with a class of outer-text.\n",
    "- `p#first` — finds all p tags with an id of first.\n",
    "- `body p.outer-text` — finds any p tags with a class of outer-text inside of a body tag.\n",
    "\n",
    "Next we will start to extract content from the page. Follow the lead of your instructor, combine with the knowledge of HTML and CSS, we learn that:\n",
    "\n",
    "- Title is stored inside `h1`\n",
    "- Image is stored inside an `img` tag inside a div with class `.story-image`\n",
    "- Content is stored inside div of class `.story` using multiple `p` tags.\n",
    "\n",
    "So for instance, if we were to extract the title, we will need to extract the text from the `.ph-wrapper` tag. \n",
    "\n",
    "```python\n",
    "titles = page_content.select('h1')\n",
    "title = titles[0].text.strip()\n",
    "```\n",
    "\n",
    "You may continue the rest of the tasks using the following hints:\n",
    "- Extract `src` attribute for the image\n",
    "- Loop through the `p` tags and combine them together into a single string."
   ]
  },
  {
   "cell_type": "code",
   "execution_count": 15,
   "metadata": {},
   "outputs": [
    {
     "data": {
      "text/plain": [
       "'Prices of cigarettes to go up after sales tax fixed at 10%'"
      ]
     },
     "execution_count": 15,
     "metadata": {},
     "output_type": "execute_result"
    }
   ],
   "source": [
    "titles = page_content.select('h1')\n",
    "title = titles[0].text.strip()\n",
    "\n",
    "title\n"
   ]
  },
  {
   "cell_type": "code",
   "execution_count": 16,
   "metadata": {},
   "outputs": [
    {
     "data": {
      "text/plain": [
       "{'title': 'Prices of cigarettes to go up after sales tax fixed at 10%',\n",
       " 'image': '/~/media/online/2018/08/16/03/25/cigarettes.ashx/?w=620&h=413&crop=1&hash=555F31920A04C7C3BA0C89B58D414A308066E5E4',\n",
       " 'content': 'PETALING JAYA: Sales and Service Tax (SST) for cigarettes has been gazetted at 10% as of Aug 29, and this will cause the prices of cigarette to increase.British American Tobacco (M) Bhd (BAT) managing director Erik Stoel said the company is concerned about the impact that the 10% SST will have on the cigarette industry, given the high incidence of illegal cigarettes.He urged the Government to re-consider an SST increase on tobacco products \"in light of these high levels of illegal cigarette trade and the persistent pressure on disposable income for the average Malaysian consumer\".\"For the tobacco industry, a SST of 10% is higher than the previous 6% GST (goods and service tax). \"Furthermore, this implies a double taxation as the SST will be levied inclusive of the high levels of excise, which we currently contribute to the Government,\" he said in a statement on Friday.He said that this will unfortunately leave the company no other choice but to consider increase of prices for consumers.\"We are concerned that this could further fuel the growth of illegal trade in Malaysia.\"The legal cigarette industry is under tremendous pressure and has never recovered from the unprecedented excise tax hike of close to 40% way back in November 2015, which increased cigarette prices to the existing high prices compared to illegal cigarettes,\" he said.As a consequence, Stoel said that sales volumes of legal cigarettes have declined significantly and has made Malaysia a \"very attractive hunting ground for smugglers and all sorts of criminal elements that should not be associated with a respectable \\'new Malaysia\\'\".\"This price increase will result in higher disparity between legal and illegal cigarette prices, in absence of any effective government solutions to curb illegal cigarette trade in Malaysia,\" he said.'}"
      ]
     },
     "execution_count": 16,
     "metadata": {},
     "output_type": "execute_result"
    }
   ],
   "source": [
    "# Get the title of the article\n",
    "titles = page_content.select('h1')\n",
    "title = titles[0].text.strip()\n",
    "\n",
    "# Get the image \n",
    "imgs = page_content.select('div.story-image img')\n",
    "# Since I already know that there is only one element in the img, we can safely access it via array.\n",
    "img = imgs[0]['src']\n",
    "\n",
    "# Get the text content\n",
    "nodes = page_content.select('div.story p')\n",
    "# Inspect nodes, and you will realize that there are multiple <p> tags for different paragraphs, we may join them together.\n",
    "content = ''\n",
    "for node in nodes:\n",
    "    content = content + node.text\n",
    "    \n",
    "news = {\n",
    "    'title': title,\n",
    "    'image': img,\n",
    "    'content': content\n",
    "}\n",
    "\n",
    "news\n"
   ]
  },
  {
   "cell_type": "markdown",
   "metadata": {},
   "source": [
    "---\n",
    "Finally, you may combine the data you have extracted into a single `news` object.\n",
    "\n",
    "```python\n",
    "news = {\n",
    "    'title': title,\n",
    "    'image': img,\n",
    "    'content': content\n",
    "}\n",
    "```\n",
    "\n"
   ]
  },
  {
   "cell_type": "code",
   "execution_count": 11,
   "metadata": {},
   "outputs": [
    {
     "data": {
      "text/plain": [
       "{'title': 'Prices of cigarettes to go up after sales tax fixed at 10%',\n",
       " 'image': '/~/media/online/2018/08/16/03/25/cigarettes.ashx/?w=620&h=413&crop=1&hash=555F31920A04C7C3BA0C89B58D414A308066E5E4',\n",
       " 'content': 'PETALING JAYA: Sales and Service Tax (SST) for cigarettes has been gazetted at 10% as of Aug 29, and this will cause the prices of cigarette to increase.British American Tobacco (M) Bhd (BAT) managing director Erik Stoel said the company is concerned about the impact that the 10% SST will have on the cigarette industry, given the high incidence of illegal cigarettes.He urged the Government to re-consider an SST increase on tobacco products \"in light of these high levels of illegal cigarette trade and the persistent pressure on disposable income for the average Malaysian consumer\".\"For the tobacco industry, a SST of 10% is higher than the previous 6% GST (goods and service tax). \"Furthermore, this implies a double taxation as the SST will be levied inclusive of the high levels of excise, which we currently contribute to the Government,\" he said in a statement on Friday.He said that this will unfortunately leave the company no other choice but to consider increase of prices for consumers.\"We are concerned that this could further fuel the growth of illegal trade in Malaysia.\"The legal cigarette industry is under tremendous pressure and has never recovered from the unprecedented excise tax hike of close to 40% way back in November 2015, which increased cigarette prices to the existing high prices compared to illegal cigarettes,\" he said.As a consequence, Stoel said that sales volumes of legal cigarettes have declined significantly and has made Malaysia a \"very attractive hunting ground for smugglers and all sorts of criminal elements that should not be associated with a respectable \\'new Malaysia\\'\".\"This price increase will result in higher disparity between legal and illegal cigarette prices, in absence of any effective government solutions to curb illegal cigarette trade in Malaysia,\" he said.'}"
      ]
     },
     "execution_count": 11,
     "metadata": {},
     "output_type": "execute_result"
    }
   ],
   "source": [
    "news"
   ]
  },
  {
   "cell_type": "code",
   "execution_count": null,
   "metadata": {},
   "outputs": [],
   "source": []
  }
 ],
 "metadata": {
  "kernelspec": {
   "display_name": "Python [default]",
   "language": "python",
   "name": "python3"
  },
  "language_info": {
   "codemirror_mode": {
    "name": "ipython",
    "version": 3
   },
   "file_extension": ".py",
   "mimetype": "text/x-python",
   "name": "python",
   "nbconvert_exporter": "python",
   "pygments_lexer": "ipython3",
   "version": "3.6.5"
  }
 },
 "nbformat": 4,
 "nbformat_minor": 2
}
